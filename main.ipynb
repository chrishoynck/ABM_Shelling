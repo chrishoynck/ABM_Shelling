{
 "cells": [
  {
   "cell_type": "code",
   "execution_count": 1,
   "id": "ad6aed02",
   "metadata": {},
   "outputs": [
    {
     "name": "stdout",
     "output_type": "stream",
     "text": [
      "bla\n"
     ]
    }
   ],
   "source": [
    "print(\"bla\")"
   ]
  },
  {
   "cell_type": "code",
   "execution_count": 2,
   "id": "7eaa1ab7",
   "metadata": {},
   "outputs": [],
   "source": [
    "from src.shelling import shelling_model"
   ]
  },
  {
   "cell_type": "code",
   "execution_count": null,
   "id": "6beac71d",
   "metadata": {},
   "outputs": [],
   "source": []
  }
 ],
 "metadata": {
  "kernelspec": {
   "display_name": "myenva",
   "language": "python",
   "name": "python3"
  },
  "language_info": {
   "codemirror_mode": {
    "name": "ipython",
    "version": 3
   },
   "file_extension": ".py",
   "mimetype": "text/x-python",
   "name": "python",
   "nbconvert_exporter": "python",
   "pygments_lexer": "ipython3",
   "version": "3.12.2"
  }
 },
 "nbformat": 4,
 "nbformat_minor": 5
}
