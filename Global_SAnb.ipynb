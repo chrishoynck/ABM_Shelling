{
 "cells": [
  {
   "cell_type": "markdown",
   "id": "796300e7",
   "metadata": {},
   "source": [
    "# Global Sensitivity Analysis\n",
    "\n",
    "#### Imports:"
   ]
  },
  {
   "cell_type": "code",
   "execution_count": null,
   "id": "b72cd8b2",
   "metadata": {},
   "outputs": [],
   "source": [
    "import numpy as np\n",
    "import matplotlib.pyplot as plt\n",
    "from mesa.batchrunner import BatchRunner\n",
    "from SALib.sample import saltelli\n",
    "from SALib.analyze import sobol\n",
    "import pandas as pd\n",
    "from itertools import combinations\n",
    "from src.model import SchellingModel"
   ]
  },
  {
   "cell_type": "markdown",
   "id": "02d6f77d",
   "metadata": {},
   "source": [
    "The parameters that are varied are: `density`, `p_random`, `min_tenure`, `u_threshold`, and `alpha`. The model reporters are the last values of the `dissimilarity` and `exposure` metric. \n",
    "\n",
    "We use 128 Sobol samples and 5 replicates."
   ]
  },
  {
   "cell_type": "code",
   "execution_count": null,
   "id": "53caaaf5",
   "metadata": {},
   "outputs": [],
   "source": [
    "parameters = {\n",
    "    'num_vars': 5,\n",
    "    'names': ['density', 'p_random', 'min_tenure', 'u_threshold', 'alpha'],\n",
    "    'bounds': [[0.7, 0.95], [0.05, 0.2], [3, 6], [7, 9.5], [0.1, 0.7]]\n",
    "}\n",
    "model_steps = 200\n",
    "\n",
    "model_reporters = {\"dissimilarity\": lambda m: np.mean(m.dissimilarity_list[-1]),\n",
    "                   \"exposure\": lambda m: np.mean(m.exposure_list[-1])}\n",
    "\n",
    "replicates = 5\n",
    "distinct_samples = 128\n",
    "param_values = saltelli.sample(parameters, distinct_samples, calc_second_order=True)"
   ]
  },
  {
   "cell_type": "markdown",
   "id": "52c5bed5",
   "metadata": {},
   "source": [
    "Now, we calculate the first, second, and total order Sobol indices"
   ]
  },
  {
   "cell_type": "code",
   "execution_count": null,
   "id": "3019d66b",
   "metadata": {},
   "outputs": [],
   "source": [
    "batch = BatchRunner(SchellingModel, \n",
    "                    max_steps=model_steps,\n",
    "                    variable_parameters={name:[] for name in parameters['names']},\n",
    "                    model_reporters=model_reporters)\n",
    "\n",
    "# Seed the process for reproducibility\n",
    "n_runs = replicates * len(param_values)\n",
    "rng = np.random.RandomState(1234)\n",
    "seeds = rng.randint(0, 2**31 - 1, size=n_runs)\n",
    "\n",
    "\n",
    "count = 0\n",
    "data = pd.DataFrame(index=range(replicates*len(param_values)), \n",
    "                                columns=['density', 'p_random', 'min_tenure', 'u_threshold', 'alpha'])\n",
    "data['Run'], data['dissimilarity'], data['exposure'] = None, None, None\n",
    "\n",
    "for i in range(replicates):\n",
    "    for vals in param_values: \n",
    "        vals = list(vals)\n",
    "        # Transform to dict with parameter names and their values\n",
    "        variable_parameters = {}\n",
    "        for name, val in zip(parameters['names'], vals):\n",
    "            variable_parameters[name] = val\n",
    "        variable_parameters['seedje'] = int(seeds[count])\n",
    "\n",
    "        batch.run_iteration(variable_parameters, tuple(vals) + (seeds[count],), count)\n",
    "        iteration_data = batch.get_model_vars_dataframe().iloc[count]\n",
    "        iteration_data['Run'] = count\n",
    "        data.iloc[count, 0:5] = vals\n",
    "        data.iloc[count, 5:8] = iteration_data\n",
    "        count += 1\n",
    "\n",
    "        print(f'{count / (len(param_values) * (replicates)) * 100:.2f}% done')\n",
    "\n",
    "data.to_csv('SA_data.csv', index=False)"
   ]
  },
  {
   "cell_type": "markdown",
   "id": "ec59df8f",
   "metadata": {},
   "source": [
    "The data calculated above is saved into `SA_data.csv`. The run used for the report is stored in `SA_data_best_run.csv`."
   ]
  },
  {
   "cell_type": "code",
   "execution_count": null,
   "id": "902bdcf1",
   "metadata": {},
   "outputs": [],
   "source": [
    "SA_data = pd.read_csv('SA_data_best_run.csv')\n",
    "# SA_data = pd.read_csv('SA_data.csv')\n",
    "\n",
    "Si_dissimilarity = sobol.analyze(parameters, SA_data['dissimilarity'].values, print_to_console=False)\n",
    "Si_exposure = sobol.analyze(parameters, SA_data['exposure'].values, print_to_console=False)"
   ]
  },
  {
   "cell_type": "markdown",
   "id": "47031417",
   "metadata": {},
   "source": [
    "We calculate the sum of the first and second order to observe their impact."
   ]
  },
  {
   "cell_type": "code",
   "execution_count": null,
   "id": "f22b14a5",
   "metadata": {},
   "outputs": [],
   "source": [
    "# 1) Sum of first‐order indices\n",
    "first_sum = np.sum(Si_dissimilarity['S1'])\n",
    "print(f\"Sum of first‐order Sobol indices: {first_sum:.4f}\")\n",
    "\n",
    "# 2) Sum of second‐order indices\n",
    "p = len(parameters['names'])\n",
    "flat_s2 = Si_dissimilarity['S2'].reshape(p*p)      \n",
    "flat_s2 = flat_s2[~np.isnan(flat_s2)]\n",
    "second_sum = np.sum(flat_s2)\n",
    "print(f\"Sum of second‐order Sobol indices: {second_sum:.4f}\")\n",
    "\n",
    "# 3) Combined up to second order\n",
    "print(f\"Combined up to 2nd order:   {first_sum + second_sum:.4f}\")"
   ]
  },
  {
   "cell_type": "markdown",
   "id": "fe76a695",
   "metadata": {},
   "source": [
    "Finally, we plot the results:"
   ]
  },
  {
   "cell_type": "code",
   "execution_count": null,
   "id": "cabeaa3a",
   "metadata": {},
   "outputs": [],
   "source": [
    "def plot_index(s, params, i, idx, title=''):\n",
    "    \"\"\"\n",
    "    Creates a plot for Sobol sensitivity analysis that shows the contributions\n",
    "    of each parameter to the global sensitivity.\n",
    "\n",
    "    Args:\n",
    "        s (dict): dictionary {'S#': dict, 'S#_conf': dict} of dicts that hold\n",
    "            the values for a set of parameters\n",
    "        params (list): the parameters taken from s\n",
    "        i (str): string that indicates what order the sensitivity is.\n",
    "        title (str): title for the plot\n",
    "    \"\"\"\n",
    "\n",
    "    if i == '2':\n",
    "        p = len(single_labels)\n",
    "        indices = s['S' + i].reshape((p ** 2))\n",
    "        indices = indices[~np.isnan(indices)]\n",
    "        errors = s['S' + i + '_conf'].reshape((p ** 2))\n",
    "        errors = errors[~np.isnan(errors)]\n",
    "    else:\n",
    "        indices = s['S' + i]\n",
    "        errors = s['S' + i + '_conf']\n",
    "\n",
    "    l = len(indices)\n",
    "\n",
    "    # plt.figure(figsize=(5,3))\n",
    "    plt.subplot(2,2,idx)\n",
    "    plt.title(title)\n",
    "    plt.ylim([-0.2, len(indices) - 1 + 0.2])\n",
    "    plt.yticks(range(l), params, fontsize=13)\n",
    "    plt.errorbar(indices, range(l), xerr=errors, linestyle='None', marker='o', color='#a26da4', capsize=5)\n",
    "    plt.axvline(0, c='k')\n",
    "    plt.xticks(fontsize=12)\n",
    "    if i == 'T':\n",
    "        plt.yticks([])\n",
    "    \n",
    "    plt.grid(ls='dashed')\n",
    "\n",
    "\n",
    "pretty_names = {\n",
    "    'density': r'$\\rho$',\n",
    "    'p_random': r'$p_r$',\n",
    "    'min_tenure': r'$\\bar{t}$',\n",
    "    'u_threshold': r'$\\bar{u}$',\n",
    "    'alpha': r'$\\alpha$'\n",
    "}\n",
    "single_labels = [pretty_names[n] for n in parameters['names']]\n",
    "pair_labels   = [\n",
    "    f\"({pretty_names[a]}, {pretty_names[b]})\"\n",
    "    for a, b in combinations(parameters['names'], 2)\n",
    "]\n",
    "\n",
    "for Si, metric in zip((Si_dissimilarity, Si_exposure), ('GSA of Dissimilarity', 'GSA of Exposure')):\n",
    "    plt.figure(figsize=(6,6), dpi=300)\n",
    "    plt.suptitle(f'{metric}', fontsize=14, y=0.95)\n",
    "    plot_index(Si, single_labels, '1', 1, f'First Order Sensitivity')\n",
    "    plot_index(Si, pair_labels, '2', 3, f'Second Order Sensitivity')\n",
    "    plot_index(Si, single_labels, 'T', 2, f'Total Order Sensitivity')\n",
    "    plt.subplots_adjust(hspace=0.25, wspace=0.15)\n",
    "\n",
    "    plt.show()\n"
   ]
  }
 ],
 "metadata": {
  "kernelspec": {
   "display_name": "abm",
   "language": "python",
   "name": "python3"
  },
  "language_info": {
   "codemirror_mode": {
    "name": "ipython",
    "version": 3
   },
   "file_extension": ".py",
   "mimetype": "text/x-python",
   "name": "python",
   "nbconvert_exporter": "python",
   "pygments_lexer": "ipython3",
   "version": "3.12.9"
  }
 },
 "nbformat": 4,
 "nbformat_minor": 5
}
